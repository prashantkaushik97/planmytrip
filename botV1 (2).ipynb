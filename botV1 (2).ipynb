{
  "cells": [
    {
      "cell_type": "code",
      "execution_count": null,
      "metadata": {
        "id": "inSWhjpeCtQR"
      },
      "outputs": [],
      "source": [
        "!pip install rasa==1.10.3"
      ]
    },
    {
      "cell_type": "code",
      "execution_count": null,
      "metadata": {
        "id": "BycDjNIAC7X3"
      },
      "outputs": [],
      "source": [
        "#RESTART RUNTIME AFTER EXECUTING THIS\n",
        "!pip install -U ipython"
      ]
    },
    {
      "cell_type": "code",
      "execution_count": null,
      "metadata": {
        "id": "dhgWu5c14umH"
      },
      "outputs": [],
      "source": [
        "!python -m spacy download en\n"
      ]
    },
    {
      "cell_type": "code",
      "execution_count": null,
      "metadata": {
        "id": "LNUCn24lC01O"
      },
      "outputs": [],
      "source": [
        "!pip install -U tables==3.6.1"
      ]
    },
    {
      "cell_type": "code",
      "execution_count": null,
      "metadata": {
        "id": "h71YsNNVSQtp"
      },
      "outputs": [],
      "source": [
        "!pip install pyowm\n"
      ]
    },
    {
      "cell_type": "code",
      "execution_count": null,
      "metadata": {
        "id": "wwI1ODXaDBWZ"
      },
      "outputs": [],
      "source": [
        "!pip install -U nest_asyncio==1.3.3"
      ]
    },
    {
      "cell_type": "code",
      "execution_count": null,
      "metadata": {
        "colab": {
          "base_uri": "https://localhost:8080/"
        },
        "id": "hNoFrhYYFwIx",
        "outputId": "c49a4cf2-7f0a-4eab-9499-6bd4f5314b4a"
      },
      "outputs": [
        {
          "output_type": "stream",
          "name": "stdout",
          "text": [
            "Event loop ready.\n"
          ]
        }
      ],
      "source": [
        "import os\n",
        "import rasa\n",
        "import nest_asyncio\n",
        "\n",
        "nest_asyncio.apply()\n",
        "print(\"Event loop ready.\")"
      ]
    },
    {
      "cell_type": "code",
      "execution_count": null,
      "metadata": {
        "id": "ufrkPX_lHBb7"
      },
      "outputs": [],
      "source": [
        "from rasa.cli.scaffold import create_initial_project"
      ]
    },
    {
      "cell_type": "code",
      "execution_count": null,
      "metadata": {
        "id": "9yBJ8VfHHJol"
      },
      "outputs": [],
      "source": [
        "project='travel_bot'\n",
        "create_initial_project(project)"
      ]
    },
    {
      "cell_type": "code",
      "execution_count": null,
      "metadata": {
        "id": "7T12HZsOHNGL"
      },
      "outputs": [],
      "source": [
        "os.chdir(\"/content/travel_bot\")"
      ]
    },
    {
      "cell_type": "code",
      "execution_count": null,
      "metadata": {
        "id": "2jMvX2KVHPuR"
      },
      "outputs": [],
      "source": [
        "config = \"config.yml\"\n",
        "training_files = \"data\"\n",
        "domain = \"domain.yml\"\n",
        "output = \"models/\""
      ]
    },
    {
      "cell_type": "code",
      "execution_count": null,
      "metadata": {
        "colab": {
          "base_uri": "https://localhost:8080/",
          "height": 567
        },
        "id": "NFtvlF_8L2Y7",
        "outputId": "beb8b85d-7187-4aa3-db5e-749d2a189879"
      },
      "outputs": [
        {
          "output_type": "stream",
          "name": "stdout",
          "text": [
            "Writing data/nlu.md\n"
          ]
        },
        {
          "output_type": "error",
          "ename": "FileNotFoundError",
          "evalue": "ignored",
          "traceback": [
            "\u001b[0;31m---------------------------------------------------------------------------\u001b[0m",
            "\u001b[0;31mFileNotFoundError\u001b[0m                         Traceback (most recent call last)",
            "\u001b[0;32m<ipython-input-1-b2787643db86>\u001b[0m in \u001b[0;36m<module>\u001b[0;34m()\u001b[0m\n\u001b[0;32m----> 1\u001b[0;31m \u001b[0mget_ipython\u001b[0m\u001b[0;34m(\u001b[0m\u001b[0;34m)\u001b[0m\u001b[0;34m.\u001b[0m\u001b[0mrun_cell_magic\u001b[0m\u001b[0;34m(\u001b[0m\u001b[0;34m'writefile'\u001b[0m\u001b[0;34m,\u001b[0m \u001b[0;34m'data/nlu.md'\u001b[0m\u001b[0;34m,\u001b[0m \u001b[0;34m\"\\n## intent:find_attractions\\n-places to visit in [New York](destination)\\n-tourist attractions in [New Delhi](destination)\\n-fun places in [Montreal](destination)\\n-where should I go in [Ottawa](destination)\\n-cool places to visit in [New York](destination)\\n-what to do in [Paris](destination)\\n-are there any good places in [Vancouver](destination)\\n\\n## intent:find_hotel\\n-find a place to stay\\n-find a hotel\\n-find me a hotel\\n-find a hotel for [2](adults)\\n-hotels in [Mumbai](destination)\\n-find me a place to stay in [New York](destination) for [2](adults)\\n-show me a good hotel  for [3](adults) in [New Delhi](destination)\\n-is there any good hotel in [Ottawa](destination)\\n-i need an accommodation for [1](adults) in [Mumbai](destination)\\n-hotel in [Dubai](destination)\\n-[Cairo](destination) hotels\\n-find a place to stay in [Ottawa](destination)\\n-find a hotel in [Mumbai](destination) for [1](adults) person\\n\\n## intent:get_hotel_destination\\n-in [New York](destination)\\n-i want hotel in [New Delhi](destination)\\n-its [Ottawa](destination)\\n-[Mumbai](destination)\\n\\n## intent:guests_entity\\n-there will be [2](adults) people\\n-[3](adults)\\n-[1](adults) person\\n-[4](adults) adults\\n-only [1](adults)\\n\\n## intent:flight_status\\n- status of flight [AB1234](flight_number)\\n- flight stat...\n\u001b[0m",
            "\u001b[0;32m/usr/local/lib/python3.7/dist-packages/IPython/core/interactiveshell.py\u001b[0m in \u001b[0;36mrun_cell_magic\u001b[0;34m(self, magic_name, line, cell)\u001b[0m\n\u001b[1;32m   2115\u001b[0m             \u001b[0mmagic_arg_s\u001b[0m \u001b[0;34m=\u001b[0m \u001b[0mself\u001b[0m\u001b[0;34m.\u001b[0m\u001b[0mvar_expand\u001b[0m\u001b[0;34m(\u001b[0m\u001b[0mline\u001b[0m\u001b[0;34m,\u001b[0m \u001b[0mstack_depth\u001b[0m\u001b[0;34m)\u001b[0m\u001b[0;34m\u001b[0m\u001b[0;34m\u001b[0m\u001b[0m\n\u001b[1;32m   2116\u001b[0m             \u001b[0;32mwith\u001b[0m \u001b[0mself\u001b[0m\u001b[0;34m.\u001b[0m\u001b[0mbuiltin_trap\u001b[0m\u001b[0;34m:\u001b[0m\u001b[0;34m\u001b[0m\u001b[0;34m\u001b[0m\u001b[0m\n\u001b[0;32m-> 2117\u001b[0;31m                 \u001b[0mresult\u001b[0m \u001b[0;34m=\u001b[0m \u001b[0mfn\u001b[0m\u001b[0;34m(\u001b[0m\u001b[0mmagic_arg_s\u001b[0m\u001b[0;34m,\u001b[0m \u001b[0mcell\u001b[0m\u001b[0;34m)\u001b[0m\u001b[0;34m\u001b[0m\u001b[0;34m\u001b[0m\u001b[0m\n\u001b[0m\u001b[1;32m   2118\u001b[0m             \u001b[0;32mreturn\u001b[0m \u001b[0mresult\u001b[0m\u001b[0;34m\u001b[0m\u001b[0;34m\u001b[0m\u001b[0m\n\u001b[1;32m   2119\u001b[0m \u001b[0;34m\u001b[0m\u001b[0m\n",
            "\u001b[0;32m<decorator-gen-97>\u001b[0m in \u001b[0;36mwritefile\u001b[0;34m(self, line, cell)\u001b[0m\n",
            "\u001b[0;32m/usr/local/lib/python3.7/dist-packages/IPython/core/magic.py\u001b[0m in \u001b[0;36m<lambda>\u001b[0;34m(f, *a, **k)\u001b[0m\n\u001b[1;32m    186\u001b[0m     \u001b[0;31m# but it's overkill for just that one bit of state.\u001b[0m\u001b[0;34m\u001b[0m\u001b[0;34m\u001b[0m\u001b[0;34m\u001b[0m\u001b[0m\n\u001b[1;32m    187\u001b[0m     \u001b[0;32mdef\u001b[0m \u001b[0mmagic_deco\u001b[0m\u001b[0;34m(\u001b[0m\u001b[0marg\u001b[0m\u001b[0;34m)\u001b[0m\u001b[0;34m:\u001b[0m\u001b[0;34m\u001b[0m\u001b[0;34m\u001b[0m\u001b[0m\n\u001b[0;32m--> 188\u001b[0;31m         \u001b[0mcall\u001b[0m \u001b[0;34m=\u001b[0m \u001b[0;32mlambda\u001b[0m \u001b[0mf\u001b[0m\u001b[0;34m,\u001b[0m \u001b[0;34m*\u001b[0m\u001b[0ma\u001b[0m\u001b[0;34m,\u001b[0m \u001b[0;34m**\u001b[0m\u001b[0mk\u001b[0m\u001b[0;34m:\u001b[0m \u001b[0mf\u001b[0m\u001b[0;34m(\u001b[0m\u001b[0;34m*\u001b[0m\u001b[0ma\u001b[0m\u001b[0;34m,\u001b[0m \u001b[0;34m**\u001b[0m\u001b[0mk\u001b[0m\u001b[0;34m)\u001b[0m\u001b[0;34m\u001b[0m\u001b[0;34m\u001b[0m\u001b[0m\n\u001b[0m\u001b[1;32m    189\u001b[0m \u001b[0;34m\u001b[0m\u001b[0m\n\u001b[1;32m    190\u001b[0m         \u001b[0;32mif\u001b[0m \u001b[0mcallable\u001b[0m\u001b[0;34m(\u001b[0m\u001b[0marg\u001b[0m\u001b[0;34m)\u001b[0m\u001b[0;34m:\u001b[0m\u001b[0;34m\u001b[0m\u001b[0;34m\u001b[0m\u001b[0m\n",
            "\u001b[0;32m/usr/local/lib/python3.7/dist-packages/IPython/core/magics/osm.py\u001b[0m in \u001b[0;36mwritefile\u001b[0;34m(self, line, cell)\u001b[0m\n\u001b[1;32m    787\u001b[0m \u001b[0;34m\u001b[0m\u001b[0m\n\u001b[1;32m    788\u001b[0m         \u001b[0mmode\u001b[0m \u001b[0;34m=\u001b[0m \u001b[0;34m'a'\u001b[0m \u001b[0;32mif\u001b[0m \u001b[0margs\u001b[0m\u001b[0;34m.\u001b[0m\u001b[0mappend\u001b[0m \u001b[0;32melse\u001b[0m \u001b[0;34m'w'\u001b[0m\u001b[0;34m\u001b[0m\u001b[0;34m\u001b[0m\u001b[0m\n\u001b[0;32m--> 789\u001b[0;31m         \u001b[0;32mwith\u001b[0m \u001b[0mio\u001b[0m\u001b[0;34m.\u001b[0m\u001b[0mopen\u001b[0m\u001b[0;34m(\u001b[0m\u001b[0mfilename\u001b[0m\u001b[0;34m,\u001b[0m \u001b[0mmode\u001b[0m\u001b[0;34m,\u001b[0m \u001b[0mencoding\u001b[0m\u001b[0;34m=\u001b[0m\u001b[0;34m'utf-8'\u001b[0m\u001b[0;34m)\u001b[0m \u001b[0;32mas\u001b[0m \u001b[0mf\u001b[0m\u001b[0;34m:\u001b[0m\u001b[0;34m\u001b[0m\u001b[0;34m\u001b[0m\u001b[0m\n\u001b[0m\u001b[1;32m    790\u001b[0m             \u001b[0mf\u001b[0m\u001b[0;34m.\u001b[0m\u001b[0mwrite\u001b[0m\u001b[0;34m(\u001b[0m\u001b[0mcell\u001b[0m\u001b[0;34m)\u001b[0m\u001b[0;34m\u001b[0m\u001b[0;34m\u001b[0m\u001b[0m\n",
            "\u001b[0;31mFileNotFoundError\u001b[0m: [Errno 2] No such file or directory: 'data/nlu.md'"
          ]
        }
      ],
      "source": [
        "%%writefile data/nlu.md\n",
        "\n",
        "## intent:find_attractions\n",
        "-places to visit in [New York](destination)\n",
        "-tourist attractions in [New Delhi](destination)\n",
        "-fun places in [Montreal](destination)\n",
        "-where should I go in [Ottawa](destination)\n",
        "-cool places to visit in [New York](destination)\n",
        "-what to do in [Paris](destination)\n",
        "-are there any good places in [Vancouver](destination)\n",
        "\n",
        "## intent:find_hotel\n",
        "-find a place to stay\n",
        "-find a hotel\n",
        "-find me a hotel\n",
        "-find a hotel for [2](adults)\n",
        "-hotels in [Mumbai](destination)\n",
        "-find me a place to stay in [New York](destination) for [2](adults)\n",
        "-show me a good hotel  for [3](adults) in [New Delhi](destination)\n",
        "-is there any good hotel in [Ottawa](destination)\n",
        "-i need an accommodation for [1](adults) in [Mumbai](destination)\n",
        "-hotel in [Dubai](destination)\n",
        "-[Cairo](destination) hotels\n",
        "-find a place to stay in [Ottawa](destination)\n",
        "-find a hotel in [Mumbai](destination) for [1](adults) person\n",
        "\n",
        "## intent:get_hotel_destination\n",
        "-in [New York](destination)\n",
        "-i want hotel in [New Delhi](destination)\n",
        "-its [Ottawa](destination)\n",
        "-[Mumbai](destination)\n",
        "\n",
        "## intent:guests_entity\n",
        "-there will be [2](adults) people\n",
        "-[3](adults)\n",
        "-[1](adults) person\n",
        "-[4](adults) adults\n",
        "-only [1](adults)\n",
        "\n",
        "## intent:flight_status\n",
        "- status of flight [AB1234](flight_number)\n",
        "- flight status of [SK4234](flight_number)\n",
        "- tell me about flight [CS7272](flight_number)\n",
        "- tell me if flight [YO1491](flight_number) is on time\n",
        "- is the flight [MK1231](flight_number) on time\n",
        "- what is the status of [IJ6767](flight_number)\n",
        "- can you tell me what is the status of flight [AI1212](flight_number)\n",
        "- [BV7474](flight_number) flight status\n",
        "- status of [BV7474](flight_number) flight\n",
        "- status of [CX7319](flight_number)\n",
        "- flight [RB4725](flight_number) status\n",
        "- flight [AC7777](flight_number) status\n",
        "\n",
        "## intent:report\n",
        "- will it rain in [goa](destination)\n",
        "- will it snow in [seattle](destination)\n",
        "- weather report of [London](destination)\n",
        "- Weather report of [Delhi](destination)\n",
        "- [Mumbai](destination) weather report\n",
        "- [Dubai](destination) weather\n",
        "- [Paris](destination)\n",
        "- [California](destination) weather\n",
        "- [Bangkok](destination) \n",
        "- [Rome](destination) weather\n",
        "- How is the weather in [Mumbai](destination)\n",
        "- [Ottawa](destination) weather\n",
        "- can you show me the weather in [Chandigarh](destination)\n",
        "- whats the weather like in [Seattle](destination)\n",
        "- How is the weather in [Vancouver](destination)\n",
        "\n",
        "## intent:clear_slots\n",
        "\n",
        "- no i dont want attractions near [London](destination)\n",
        "- not in [Delhi](destination)]\n",
        "- not there\n",
        "- I am not talking about [Vancouver](destination)\n",
        "- I am not looking for places in [Paris](destination)\n",
        "- no i dont want hotel in [London](destination)\n",
        "- i don't want accomodation in [New York](destination)\n",
        "- I am not talking about [Vancouver](destination)\n",
        "- I am not looking for places in [Paris](destination)\n",
        "- no i dont want the weather of [London](destination)\n",
        "- not of [Delhi](destination)]\n",
        "\n",
        "## intent:greet\n",
        "- hey\n",
        "- hello\n",
        "- hi\n",
        "- good morning\n",
        "- good evening\n",
        "- hey there\n",
        "\n",
        "## intent:goodbye\n",
        "- bye\n",
        "- goodbye\n",
        "- see you around\n",
        "- see you later\n",
        "\n",
        "## intent:affirm\n",
        "- yes\n",
        "- indeed\n",
        "- of course\n",
        "- that sounds good\n",
        "- correct\n",
        "\n",
        "## intent:deny\n",
        "- no\n",
        "- never\n",
        "- I don't think so\n",
        "- don't like that\n",
        "- no way\n",
        "- not really\n",
        "\n",
        "## intent:mood_great\n",
        "- perfect\n",
        "- very good\n",
        "- great\n",
        "- amazing\n",
        "- wonderful\n",
        "- I am feeling very good\n",
        "- I am great\n",
        "- I'm good\n",
        "\n",
        "## intent:mood_unhappy\n",
        "- sad\n",
        "- very sad\n",
        "- unhappy\n",
        "- bad\n",
        "- very bad\n",
        "- awful\n",
        "- terrible\n",
        "- not very good\n",
        "- extremely sad\n",
        "- so sad\n",
        "\n",
        "## intent:bot_challenge\n",
        "- are you a bot?\n",
        "- are you a human?\n",
        "- am I talking to a bot?\n",
        "- am I talking to a human?"
      ]
    },
    {
      "cell_type": "code",
      "execution_count": null,
      "metadata": {
        "colab": {
          "base_uri": "https://localhost:8080/"
        },
        "id": "RBbkkVfTODfJ",
        "outputId": "9931705f-c3bb-4e44-a784-09329dcb3689"
      },
      "outputs": [
        {
          "output_type": "stream",
          "name": "stdout",
          "text": [
            "Overwriting domain.yml\n"
          ]
        }
      ],
      "source": [
        "%%writefile domain.yml\n",
        "\n",
        "intents:\n",
        "  - greet\n",
        "  - goodbye\n",
        "  - affirm\n",
        "  - deny\n",
        "  - mood_great\n",
        "  - mood_unhappy\n",
        "  - bot_challenge\n",
        "  - report\n",
        "  - flight_status\n",
        "  - find_hotel\n",
        "  - get_hotel_destination\n",
        "  - guests_entity\n",
        "  - find_attractions\n",
        "  - clear_slots\n",
        "\n",
        "slots:\n",
        "  flight_number:\n",
        "    type: unfeaturized\n",
        "  destination:\n",
        "    type: unfeaturized \n",
        "  adults:\n",
        "    type: unfeaturized \n",
        "  \n",
        "\n",
        "forms:\n",
        "  - form_hotel\n",
        "  - form_attractions\n",
        "\n",
        "actions:\n",
        "  - action_reset_all_slots\n",
        "  - action_weather\n",
        "  - action_flight_status\n",
        "  - action_find_hotel\n",
        "\n",
        "responses:\n",
        "\n",
        "  utter_ask_destination:\n",
        "  - text: \"Where would you like to go?\"\n",
        "\n",
        "  utter_ask_adults:\n",
        "  - text: \"How many guests will be there?\"\n",
        "\n",
        "  utter_ask_date:\n",
        "  - text: \"When would you like to go?\"\n",
        "\n",
        "  utter_greet:\n",
        "  - text: \"Hey! How may i help you?\"\n",
        "\n",
        "  utter_cheer_up:\n",
        "  - text: \"Here is something to cheer you up:\"\n",
        "    image: \"https://i.imgur.com/nGF1K8f.jpg\"\n",
        "\n",
        "  utter_did_that_help:\n",
        "  - text: \"Did that help you?\"\n",
        "\n",
        "  utter_happy:\n",
        "  - text: \"Great, carry on!\"\n",
        "\n",
        "  utter_goodbye:\n",
        "  - text: \"Bye\"\n",
        "\n",
        "  utter_cleaned_slots:\n",
        "  - text: \"Sorry I missed that. Can you please tell me again?\"\n",
        "  \n",
        "  utter_iamabot:\n",
        "  - text: \"I am a bot, powered by Rasa.\"\n",
        "  utter_end_response:\n",
        "  - text: \"Have a pleasent stay!\"\n",
        "\n",
        "entities:\n",
        "\n",
        "  - flight_number\n",
        "  - destination\n",
        "  - adults\n",
        "session_config:\n",
        "  session_expiration_time: 60\n",
        "  carry_over_slots_to_new_session: true"
      ]
    },
    {
      "cell_type": "code",
      "execution_count": null,
      "metadata": {
        "colab": {
          "base_uri": "https://localhost:8080/"
        },
        "id": "1vCx8o3rQyGR",
        "outputId": "d9097596-9cc9-41db-9b02-1c871b355027"
      },
      "outputs": [
        {
          "output_type": "stream",
          "name": "stdout",
          "text": [
            "Overwriting data/stories.md\n"
          ]
        }
      ],
      "source": [
        "%%writefile data/stories.md\n",
        "\n",
        "## find attractions\n",
        "* greet\n",
        "  - utter_greet\n",
        "\n",
        "* find_attractions \n",
        "  - form_attractions\n",
        "  - form{\"name\": \"form_attractions\"}\n",
        "  - form{\"name\": null}\n",
        "  - utter_end_response\n",
        "## hotel search\n",
        "* greet\n",
        "  - utter_greet\n",
        "* find_hotel \n",
        "  - form_hotel\n",
        "  - form{\"name\": \"form_hotel\"}\n",
        "  - form{\"name\": null}\n",
        "  - utter_end_response\n",
        "\n",
        "## flight status\n",
        "* greet\n",
        "  - utter_greet\n",
        "* flight_status\n",
        "  - action_flight_status\n",
        "  - action_reset_all_slots\n",
        "\n",
        "## weather report\n",
        "* greet\n",
        "  - utter_greet\n",
        "* report\n",
        "  - action_weather\n",
        "  - action_reset_all_slots\n",
        "\n",
        "## reset slots\n",
        "\n",
        "* clear_slots\n",
        "  - action_reset_all_slots\n",
        "  - utter_cleaned_slots\n",
        "## happy path\n",
        "* greet\n",
        "  - utter_greet\n",
        "* mood_great\n",
        "  - utter_happy\n",
        "\n",
        "## sad path 1\n",
        "* greet\n",
        "  - utter_greet\n",
        "* mood_unhappy\n",
        "  - utter_cheer_up\n",
        "  - utter_did_that_help\n",
        "* affirm\n",
        "  - utter_happy\n",
        "\n",
        "## sad path 2\n",
        "* greet\n",
        "  - utter_greet\n",
        "* mood_unhappy\n",
        "  - utter_cheer_up\n",
        "  - utter_did_that_help\n",
        "* deny\n",
        "  - utter_goodbye\n",
        "\n",
        "## say goodbye\n",
        "* goodbye\n",
        "  - utter_goodbye\n",
        "\n",
        "## bot challenge\n",
        "* bot_challenge\n",
        "  - utter_iamabot"
      ]
    },
    {
      "cell_type": "code",
      "source": [
        "!pip install geocoder\n"
      ],
      "metadata": {
        "colab": {
          "base_uri": "https://localhost:8080/"
        },
        "id": "Re-Q_OXa0cwP",
        "outputId": "be3555b1-a292-4be0-aca0-5a55beaf97dd"
      },
      "execution_count": null,
      "outputs": [
        {
          "output_type": "stream",
          "name": "stdout",
          "text": [
            "Requirement already satisfied: geocoder in /usr/local/lib/python3.7/dist-packages (1.38.1)\n",
            "Requirement already satisfied: future in /usr/local/lib/python3.7/dist-packages (from geocoder) (0.16.0)\n",
            "Requirement already satisfied: requests in /usr/local/lib/python3.7/dist-packages (from geocoder) (2.23.0)\n",
            "Requirement already satisfied: click in /usr/local/lib/python3.7/dist-packages (from geocoder) (7.1.2)\n",
            "Requirement already satisfied: six in /usr/local/lib/python3.7/dist-packages (from geocoder) (1.15.0)\n",
            "Requirement already satisfied: ratelim in /usr/local/lib/python3.7/dist-packages (from geocoder) (0.1.6)\n",
            "Requirement already satisfied: decorator in /usr/local/lib/python3.7/dist-packages (from ratelim->geocoder) (4.4.2)\n",
            "Requirement already satisfied: urllib3!=1.25.0,!=1.25.1,<1.26,>=1.21.1 in /usr/local/lib/python3.7/dist-packages (from requests->geocoder) (1.25.11)\n",
            "Requirement already satisfied: certifi>=2017.4.17 in /usr/local/lib/python3.7/dist-packages (from requests->geocoder) (2021.10.8)\n",
            "Requirement already satisfied: chardet<4,>=3.0.2 in /usr/local/lib/python3.7/dist-packages (from requests->geocoder) (3.0.4)\n",
            "Requirement already satisfied: idna<3,>=2.5 in /usr/local/lib/python3.7/dist-packages (from requests->geocoder) (2.10)\n"
          ]
        }
      ]
    },
    {
      "cell_type": "code",
      "execution_count": null,
      "metadata": {
        "colab": {
          "base_uri": "https://localhost:8080/"
        },
        "id": "ytGy9PbTaL6z",
        "outputId": "a6503ee3-9c1d-4651-9d5f-db4fcc51d7d8"
      },
      "outputs": [
        {
          "output_type": "stream",
          "name": "stdout",
          "text": [
            "Overwriting actions.py\n"
          ]
        }
      ],
      "source": [
        "%%writefile actions.py\n",
        "# This files contains your custom actions which can be used to run\n",
        "# custom Python code.\n",
        "#\n",
        "# See this guide on how to implement these action:\n",
        "# https://rasa.com/docs/rasa/core/actions/#custom-actions/\n",
        "\n",
        "\n",
        "# This is a simple example for a custom action which utters \"Hello World!\"\n",
        "\n",
        "from typing import Any, Text, Dict, List\n",
        "import random\n",
        "from rasa_sdk import Action, Tracker\n",
        "from rasa_sdk.forms import FormAction\n",
        "from rasa_sdk.executor import CollectingDispatcher\n",
        "from rasa_sdk.events import AllSlotsReset\n",
        "from pyowm import OWM\n",
        "import requests\n",
        "from datetime import date\n",
        "import datetime\n",
        "import geocoder\n",
        "key = \"32c884bac318f29d21953fffd3958b4f\"\n",
        "today = date.today()\n",
        "\n",
        "#flight status of CZ6972\n",
        "\n",
        "class ActionResetAllSlots(Action):\n",
        "\n",
        "    def name(self) -> Text:\n",
        "        return \"action_reset_all_slots\"\n",
        "\n",
        "    def run(self, dispatcher: CollectingDispatcher,\n",
        "            tracker: Tracker,\n",
        "            domain: Dict[Text, Any]):\n",
        "\n",
        "        return [AllSlotsReset()]\n",
        "class ActionAttractions(FormAction):\n",
        "\n",
        "    def name(self) -> Text:\n",
        "        return \"form_attractions\"\n",
        "\n",
        "    @staticmethod\n",
        "    def required_slots(tracker: Tracker) -> List[Text]:\n",
        "      return ['destination']\n",
        "\n",
        "    def submit(self, dispatcher: CollectingDispatcher,\n",
        "            tracker: Tracker,\n",
        "            domain: Dict[Text, Any]) -> List[Dict[Text, Any]]:\n",
        "\n",
        "        destination = tracker.get_slot(\"destination\")\n",
        "        import requests\n",
        "\n",
        "        locationurl = \"https://opentripmap-places-v1.p.rapidapi.com/en/places/geoname\"\n",
        "\n",
        "        querystring = {\"name\":destination}\n",
        "\n",
        "        headers = {\n",
        "        \t\"X-RapidAPI-Host\": \"opentripmap-places-v1.p.rapidapi.com\",\n",
        "        \t\"X-RapidAPI-Key\": \"4259794c89msh601c4d489852451p1f967ejsned675744ecc3\"\n",
        "        }\n",
        "        response = requests.request(\"GET\", locationurl, headers=headers, params=querystring)\n",
        "        response=response.json()\n",
        "        lat=response['lat']\n",
        "        lon=response['lon']\n",
        "        placesurl = \"https://opentripmap-places-v1.p.rapidapi.com/en/places/radius\"\n",
        "\n",
        "        querystring = {\"radius\":\"2000\",\"lon\":lon,\"lat\":lat}\n",
        "        headers = {\n",
        "\t        \"X-RapidAPI-Host\": \"opentripmap-places-v1.p.rapidapi.com\",\n",
        "\t        \"X-RapidAPI-Key\": \"4259794c89msh601c4d489852451p1f967ejsned675744ecc3\"\n",
        "        }\n",
        "\n",
        "        response2 = requests.request(\"GET\", placesurl, headers=headers, params=querystring)\n",
        "        response2=response2.json()\n",
        "        top_places=[]\n",
        "        for i in response2['features']:\n",
        "          if(i['properties']['rate']>=7):\n",
        "            top_places.append(i['properties']['name'])\n",
        "        \n",
        "        places_arr=[]\n",
        "\n",
        "        if(len(top_places)<5):\n",
        "          places_arr=top_places.copy()\n",
        "        else:\n",
        "          randomlist = []\n",
        "          for i in range(0,5):\n",
        "            n = random.randint(1,len(top_places))\n",
        "            randomlist.append(n)\n",
        "          for i in randomlist:\n",
        "              places_arr.append(response2['features'][i]['properties']['name'])\n",
        "\n",
        "        mess1=\"You can try following places in \"+ destination+ \" :\"\n",
        "        mess2=', '.join(places_arr)\n",
        "        message=mess1+mess2\n",
        "        dispatcher.utter_message(text=message)\n",
        "        return []\n",
        "\n",
        "class ActionHotel(FormAction):\n",
        "\n",
        "    def name(self) -> Text:\n",
        "        return \"form_hotel\"\n",
        "\n",
        "    @staticmethod\n",
        "    def required_slots(tracker: Tracker) -> List[Text]:\n",
        "      return ['destination', 'adults']\n",
        "\n",
        "    def submit(self, dispatcher: CollectingDispatcher,\n",
        "            tracker: Tracker,\n",
        "            domain: Dict[Text, Any]) -> List[Dict[Text, Any]]:\n",
        "\n",
        "        destination = tracker.get_slot(\"destination\")\n",
        "        adults = tracker.get_slot(\"adults\")\n",
        "\n",
        "        today = date.today()\n",
        "        tomorrow=datetime.datetime.now()+datetime.timedelta(1)\n",
        "        locationurl = \"https://booking-com.p.rapidapi.com/v1/hotels/locations\"\n",
        "\n",
        "        querystring = {\"locale\":\"en-gb\",\"name\":destination}\n",
        "\n",
        "        headers = {\n",
        "        \t\"X-RapidAPI-Host\": \"booking-com.p.rapidapi.com\",\n",
        "        \t\"X-RapidAPI-Key\": \"4259794c89msh601c4d489852451p1f967ejsned675744ecc3\"\n",
        "        }\n",
        "\n",
        "        response = requests.request(\"GET\", locationurl, headers=headers, params=querystring).json()\n",
        "        if(len(response)>0):\n",
        "          destination_id=response[0]['dest_id']\n",
        "\n",
        "          hotelsurl = \"https://booking-com.p.rapidapi.com/v1/hotels/search\"\n",
        "\n",
        "\n",
        "          querystring = {\"checkout_date\":tomorrow.strftime(\"%Y-%m-%d\"),\"room_number\":\"1\",\"filter_by_currency\":\"CAD\",\"dest_type\":\"city\",\"locale\":\"en-gb\",\"checkin_date\":today.strftime(\"%Y-%m-%d\"),\"adults_number\":adults,\"order_by\":\"popularity\",\"units\":\"metric\",\"dest_id\":destination_id}\n",
        "          headers = {\n",
        "\t          \"X-RapidAPI-Host\": \"booking-com.p.rapidapi.com\",\n",
        "        \t  \"X-RapidAPI-Key\": \"4259794c89msh601c4d489852451p1f967ejsned675744ecc3\"\n",
        "          }\n",
        "\n",
        "          response2 = requests.request(\"GET\", hotelsurl, headers=headers, params=querystring).json()\n",
        "          top_hotels=[]\n",
        "          \n",
        "          for i in response2['result']:\n",
        "            if(i['review_score']>=7):\n",
        "              top_hotels.append(i['hotel_name'])\n",
        "\n",
        "          hotels_arr=[]\n",
        "\n",
        "          if(len(top_hotels)<5):\n",
        "            hotels_arr=top_hotels.copy()\n",
        "          else:\n",
        "            randomlist = []\n",
        "            for i in range(0,5):\n",
        "              n = random.randint(1,len(top_hotels))\n",
        "              randomlist.append(n)\n",
        "            for i in randomlist:\n",
        "              hotels_arr.append(response2['result'][i]['hotel_name'])\n",
        "\n",
        "\n",
        "        mess1=\"You can try following hotels in \"+ destination+ \" :\"\n",
        "        mess2=', '.join(hotels_arr)\n",
        "        message=mess1+mess2\n",
        "        dispatcher.utter_message(text=message)\n",
        "        return []\n",
        "\n",
        "\n",
        "class FlightStatus(Action):\n",
        "\n",
        "    def name(self) -> Text:\n",
        "        return \"action_flight_status\"\n",
        "\n",
        "    def run(self, dispatcher: CollectingDispatcher,\n",
        "            tracker: Tracker,\n",
        "            domain: Dict[Text, Any]) -> List[Dict[Text, Any]]:\n",
        "\n",
        "        flight_number = tracker.get_slot(\"flight_number\")\n",
        "        if(flight_number is not Null):\n",
        "          response = requests.get(\"http://api.aviationstack.com/v1/flights?access_key=72fbe8cda11ddc44a50b9d1634ab313a&flight_iata=\"+flight_number)\n",
        "          response=response.json()\n",
        "          filtered_details=[]\n",
        "        else:\n",
        "          dispatcher.utter_message(text=\"Enter a valid flight number\")\n",
        "        \n",
        "        if(response['data']>0):\n",
        "          for i in response['data']:\n",
        "            if i['flight_date']==today.strftime(\"%Y-%m-%d\"):\n",
        "              filtered_details.append(i)\n",
        "          if len(filtered_details)==1:\n",
        "              mess1 =\"Flight\"+filtered_details['flight']['iata']+ \"is\" +filtered_details['flight_status']\n",
        "              mess2 =\"Estimate arrival time at \"+ filtered_details['arrival']['airport']+ \" is \"+filtered_details['arrival']['estimated']\n",
        "              message = mess1 + '\\n' + mess2\n",
        "              dispatcher.utter_message(text=message)\n",
        "          else:\n",
        "            mess1=\"Found multiple flights for today with number \"+ filtered_details[0]['flight']['iata']\n",
        "            mess_array=[]\n",
        "            for i in filtered_details:\n",
        "              temp_msgg=\"Flight \"+i['flight']['iata']+ \" going from \"+i['departure']['airport']+' to '+ i['arrival']['airport'] +\" is \"+i['flight_status']+\".\"\n",
        "              mess_array.append(temp_msgg)\n",
        "              if(i['flight_status']!='cancelled'):\n",
        "                temp_msggg=\"Estimate arrival time at \"+ i['arrival']['airport']+ \" is \"+i['arrival']['estimated']+\"\\n\"\n",
        "                mess_array.append(temp_msggg)\n",
        "            mess2=' '.join(mess_array)\n",
        "            message = mess1 + '\\n' + mess2 + '\\n'\n",
        "            dispatcher.utter_message(text=message)\n",
        "        else:\n",
        "            dispatcher.utter_message(text=\"No flights found for given flight number \"+flight_number)\n",
        "        return []\n",
        "\n",
        "class ActionReport(Action):\n",
        "\n",
        "    def name(self) -> Text:\n",
        "        return \"action_weather\"\n",
        "\n",
        "\n",
        "    def run(self, dispatcher: CollectingDispatcher,\n",
        "            tracker: Tracker,\n",
        "            domain: Dict[Text, Any]) -> List[Dict[Text, Any]]:\n",
        "\n",
        "        area = tracker.get_slot(\"destination\")\n",
        "        owm = OWM(key)\n",
        "        mgr = owm.weather_manager()\n",
        "        g = geocoder.ip('me')\n",
        "        if(area is None):\n",
        "          area=g.city\n",
        "        observation = mgr.weather_at_place(area)\n",
        "        w = observation.weather\n",
        "       \n",
        "        mess1 = f\"weather of {area} is: \"\n",
        "        mess2 = f\"Temperature is (in celsius): {w.temperature('celsius')['temp']}\"\n",
        "        mess3 = f\"Wind speed is: {w.wind()['speed']}Km/h\"\n",
        "        mess4 = f\"Humidity in {area} is: {w.humidity}%\"\n",
        "        mess5 = f\"Overall weather status is: {w.detailed_status}.\"\n",
        "\n",
        "        message = mess1 + '\\n' + mess2 + '\\n' + mess3 + '\\n' + mess4 + '\\n' + mess5\n",
        "        dispatcher.utter_message(text=message)\n",
        "\n",
        "        return []        "
      ]
    },
    {
      "cell_type": "code",
      "execution_count": null,
      "metadata": {
        "colab": {
          "base_uri": "https://localhost:8080/"
        },
        "id": "Xyu8uAeGORjv",
        "outputId": "0c5e49ae-530c-4950-d9ba-e4e7a7490ace"
      },
      "outputs": [
        {
          "output_type": "stream",
          "name": "stdout",
          "text": [
            "\u001b[92mNothing changed. You can use the old model stored at '/content/travel_bot/models/20220411-180410.tar.gz'.\u001b[0m\n",
            "models/20220411-180410.tar.gz\n"
          ]
        }
      ],
      "source": [
        "model_path = rasa.train(domain, config, \"data\", output)\n",
        "print(model_path)"
      ]
    },
    {
      "cell_type": "code",
      "execution_count": null,
      "metadata": {
        "colab": {
          "base_uri": "https://localhost:8080/"
        },
        "id": "ynv-8QMG9E2R",
        "outputId": "40927fd0-6800-445d-8644-832be926b5bc"
      },
      "outputs": [
        {
          "output_type": "stream",
          "name": "stdout",
          "text": [
            "models/20220411-175619.tar.gz\n"
          ]
        }
      ],
      "source": [
        "print(model_path)"
      ]
    },
    {
      "cell_type": "code",
      "execution_count": null,
      "metadata": {
        "id": "XrKE7pKkazuE"
      },
      "outputs": [],
      "source": [
        "!rasa run actions & rasa shell\n"
      ]
    }
  ],
  "metadata": {
    "colab": {
      "collapsed_sections": [],
      "name": "botV1.ipynb",
      "provenance": []
    },
    "kernelspec": {
      "display_name": "Python 3",
      "name": "python3"
    },
    "language_info": {
      "name": "python"
    }
  },
  "nbformat": 4,
  "nbformat_minor": 0
}